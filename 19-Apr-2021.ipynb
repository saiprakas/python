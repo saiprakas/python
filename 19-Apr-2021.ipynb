{
 "cells": [
  {
   "cell_type": "code",
   "execution_count": 6,
   "metadata": {},
   "outputs": [
    {
     "name": "stdout",
     "output_type": "stream",
     "text": [
      "35.0\n"
     ]
    }
   ],
   "source": [
    "#average sum of marks\n",
    "with open('Datafiles/marks.txt') as f:\n",
    "    data = f.read()\n",
    "    marks = data.split()\n",
    "    sum =0\n",
    "    for mark in marks:\n",
    "        sum+=int(mark)\n",
    "    print(sum/len(marks))    "
   ]
  },
  {
   "cell_type": "code",
   "execution_count": 20,
   "metadata": {},
   "outputs": [
    {
     "name": "stdout",
     "output_type": "stream",
     "text": [
      "pass percentage: 50.0\n"
     ]
    }
   ],
   "source": [
    "#pass percentage\n",
    "f1 = open(\"Datafiles/marks1.txt\",\"w+\")\n",
    "f1.write(\"10 20 30 40 50 60 70 80\")\n",
    "f1.close()\n",
    "with open(\"Datafiles/marks1.txt\") as f:\n",
    "    count =0\n",
    "    total =10\n",
    "    data = f.read()\n",
    "    marks = data.split()\n",
    "    for mark in marks:\n",
    "        if(int(mark)>=40):\n",
    "            count+=1\n",
    "    passperc = (count/total)*100\n",
    "    print(\"pass percentage:\",passperc)"
   ]
  },
  {
   "cell_type": "code",
   "execution_count": 30,
   "metadata": {},
   "outputs": [
    {
     "name": "stdout",
     "output_type": "stream",
     "text": [
      "no of distinctions: 0 90\n",
      "no of least : 0 10\n"
     ]
    }
   ],
   "source": [
    "f1 = open(\"Datafiles/marks.txt\",\"w+\")\n",
    "f1.write(\"5 10 20 30 40 50 60 70 80 90 90 90\")\n",
    "f1.close()\n",
    "with open(\"Datafiles/marks.txt\") as f:\n",
    "    data = f.read()\n",
    "    marks =data.split()\n",
    "    max1 = max(marks)\n",
    "    min1 = min(marks)\n",
    "    count1=0\n",
    "    count2=0\n",
    "    for mark in marks:\n",
    "        if(int(mark)==max1):\n",
    "            count1+=1\n",
    "        elif(int(mark)==min1):\n",
    "            count2+=1\n",
    "    print(\"no of distinctions:\",count1,max1)\n",
    "    print(\"no of least :\",count2,min1)"
   ]
  },
  {
   "cell_type": "code",
   "execution_count": 33,
   "metadata": {},
   "outputs": [
    {
     "name": "stdout",
     "output_type": "stream",
     "text": [
      "['__class__', '__contains__', '__delattr__', '__delitem__', '__dir__', '__doc__', '__eq__', '__format__', '__ge__', '__getattribute__', '__getitem__', '__gt__', '__hash__', '__init__', '__init_subclass__', '__iter__', '__le__', '__len__', '__lt__', '__ne__', '__new__', '__reduce__', '__reduce_ex__', '__repr__', '__reversed__', '__setattr__', '__setitem__', '__sizeof__', '__str__', '__subclasshook__', 'clear', 'copy', 'fromkeys', 'get', 'items', 'keys', 'pop', 'popitem', 'setdefault', 'update', 'values'] "
     ]
    }
   ],
   "source": [
    "print(dir(dict),end=\" \")"
   ]
  },
  {
   "cell_type": "code",
   "execution_count": 54,
   "metadata": {},
   "outputs": [
    {
     "name": "stdout",
     "output_type": "stream",
     "text": [
      "aadil\n"
     ]
    }
   ],
   "source": [
    "d ={\"name\":\"aadil\",\"age\":\"20\"}\n",
    "print(d[\"name\"])"
   ]
  },
  {
   "cell_type": "code",
   "execution_count": 48,
   "metadata": {},
   "outputs": [
    {
     "name": "stdout",
     "output_type": "stream",
     "text": [
      "java\n"
     ]
    }
   ],
   "source": [
    "print(d.setdefault(\"prog\",\"python\"))"
   ]
  },
  {
   "cell_type": "code",
   "execution_count": 53,
   "metadata": {},
   "outputs": [
    {
     "name": "stdout",
     "output_type": "stream",
     "text": [
      "{'name': 'aadil', 'age': '20', 'prog': 'java'}\n"
     ]
    }
   ],
   "source": [
    "print(d)"
   ]
  },
  {
   "cell_type": "code",
   "execution_count": 51,
   "metadata": {},
   "outputs": [],
   "source": [
    "d.update({\"prog\":\"java\"})"
   ]
  },
  {
   "cell_type": "code",
   "execution_count": 69,
   "metadata": {},
   "outputs": [
    {
     "name": "stdout",
     "output_type": "stream",
     "text": [
      "['__and__', '__class__', '__contains__', '__delattr__', '__dir__', '__doc__', '__eq__', '__format__', '__ge__', '__getattribute__', '__gt__', '__hash__', '__iand__', '__init__', '__init_subclass__', '__ior__', '__isub__', '__iter__', '__ixor__', '__le__', '__len__', '__lt__', '__ne__', '__new__', '__or__', '__rand__', '__reduce__', '__reduce_ex__', '__repr__', '__ror__', '__rsub__', '__rxor__', '__setattr__', '__sizeof__', '__str__', '__sub__', '__subclasshook__', '__xor__', 'add', 'clear', 'copy', 'difference', 'difference_update', 'discard', 'intersection', 'intersection_update', 'isdisjoint', 'issubset', 'issuperset', 'pop', 'remove', 'symmetric_difference', 'symmetric_difference_update', 'union', 'update']"
     ]
    }
   ],
   "source": [
    "print(dir(set),end=\"\")\n"
   ]
  },
  {
   "cell_type": "code",
   "execution_count": 87,
   "metadata": {},
   "outputs": [
    {
     "name": "stdout",
     "output_type": "stream",
     "text": [
      "set()\n"
     ]
    }
   ],
   "source": [
    "s = set({\"a\",\"b\",\"c\"})\n",
    "s1 = set({\"a\",\"p\",\"h\"})\n",
    "s2 =set()\n",
    "s.add(\"d\")\n",
    "s.update(\"e\",\"f\")\n",
    "s.pop()\n",
    "s.remove(\"a\")\n",
    "s.copy()\n",
    "s2.intersection(s,s1)\n",
    "print(s)"
   ]
  },
  {
   "cell_type": "code",
   "execution_count": 97,
   "metadata": {},
   "outputs": [
    {
     "name": "stdout",
     "output_type": "stream",
     "text": [
      "enter a number:6\n",
      "* * * * * * \n",
      "* * * * * \n",
      "* * * * \n",
      "* * * \n",
      "* * \n",
      "* \n"
     ]
    }
   ],
   "source": [
    "n = int(input(\"enter a number:\"))\n",
    "for i in range(n,0,-1):\n",
    "    for j in range(1,i+1):\n",
    "        print(\"*\",end=\" \")\n",
    "    print()    "
   ]
  },
  {
   "cell_type": "code",
   "execution_count": 96,
   "metadata": {},
   "outputs": [
    {
     "name": "stdout",
     "output_type": "stream",
     "text": [
      "enter a number:6\n",
      "1 2 3 4 5 6 \n",
      "1 2 3 4 5 \n",
      "1 2 3 4 \n",
      "1 2 3 \n",
      "1 2 \n",
      "1 \n"
     ]
    }
   ],
   "source": [
    "n = int(input(\"enter a number:\"))\n",
    "for i in range(n,0,-1):\n",
    "    for j in range(1,i+1):\n",
    "        print(j,end=\" \")\n",
    "    print()    "
   ]
  },
  {
   "cell_type": "code",
   "execution_count": 1,
   "metadata": {},
   "outputs": [],
   "source": [
    "d ={\"hero\":\"rasool\"}"
   ]
  },
  {
   "cell_type": "code",
   "execution_count": 2,
   "metadata": {},
   "outputs": [
    {
     "name": "stdout",
     "output_type": "stream",
     "text": [
      "{'hero': 'rasool'}\n"
     ]
    }
   ],
   "source": [
    "print(d)"
   ]
  },
  {
   "cell_type": "code",
   "execution_count": 8,
   "metadata": {},
   "outputs": [
    {
     "name": "stdout",
     "output_type": "stream",
     "text": [
      "rasool is hero\n"
     ]
    }
   ],
   "source": [
    "class hero:\n",
    "    def __init__(self):\n",
    "        print(\"rasool is hero\")    \n",
    "h = hero()        "
   ]
  },
  {
   "cell_type": "code",
   "execution_count": 10,
   "metadata": {},
   "outputs": [
    {
     "name": "stdout",
     "output_type": "stream",
     "text": [
      "3\n"
     ]
    }
   ],
   "source": [
    "class A:\n",
    "    def __init__(self,a):\n",
    "        print(a)\n",
    "a = A(3)        "
   ]
  },
  {
   "cell_type": "code",
   "execution_count": 14,
   "metadata": {},
   "outputs": [
    {
     "name": "stdout",
     "output_type": "stream",
     "text": [
      "factorial:  120\n"
     ]
    }
   ],
   "source": [
    "class A:\n",
    "    def __init__(self,a):\n",
    "        fact=1\n",
    "        for i in range(1,a+1):\n",
    "            fact=fact*i\n",
    "        print(\"factorial: \",fact)\n",
    "a = A(5)"
   ]
  },
  {
   "cell_type": "code",
   "execution_count": 34,
   "metadata": {},
   "outputs": [
    {
     "name": "stdout",
     "output_type": "stream",
     "text": [
      "factorial:  120\n",
      "perfect number\n",
      "prime number\n"
     ]
    }
   ],
   "source": [
    "class A():\n",
    "    def fact(self,a):\n",
    "        fact=1\n",
    "        for i in range(1,a+1):\n",
    "            fact=fact*i\n",
    "        print(\"factorial: \",fact)\n",
    "    def perfect(self,b):\n",
    "        sum = 0\n",
    "        for i in range(1,b):\n",
    "            if(b%i==0):\n",
    "                sum = sum+i\n",
    "        if(sum==b):\n",
    "            print(\"perfect number\")\n",
    "        else:\n",
    "            print(\"not perfect\")\n",
    "    def prime(self,c):\n",
    "        if(c==2 or c==5 or c==7):\n",
    "            print(\"prime number\")\n",
    "        elif(c%1==0 and c%c==0 and c%2!=0 and c%5!=0 and c%7!=0):\n",
    "            print(\"prime number\")\n",
    "        else:\n",
    "            print(\"not a prime number\")\n",
    "a =A()\n",
    "a.fact(5)\n",
    "a.perfect(28)\n",
    "a.prime(11) "
   ]
  },
  {
   "cell_type": "code",
   "execution_count": 44,
   "metadata": {},
   "outputs": [
    {
     "name": "stdout",
     "output_type": "stream",
     "text": [
      "this is hero\n",
      "im power full\n"
     ]
    }
   ],
   "source": [
    "class superhero:\n",
    "    def __init__(self):\n",
    "        print(\"this is super hero\")\n",
    "    def show(self):\n",
    "        print(\"im power full\")\n",
    "class hero(superhero):\n",
    "    def __init__(self):\n",
    "        print(\"this is hero\")\n",
    "h = hero()\n",
    "h.show()"
   ]
  },
  {
   "cell_type": "code",
   "execution_count": 49,
   "metadata": {},
   "outputs": [
    {
     "name": "stdout",
     "output_type": "stream",
     "text": [
      "enter a number a:3\n",
      "enter a number b:4\n",
      "sum = 7\n"
     ]
    }
   ],
   "source": [
    "class A:\n",
    "    def __init__(self):\n",
    "        a = int(input(\"enter a number a:\"))\n",
    "        b = int(input(\"enter a number b:\"))\n",
    "        self.a=a\n",
    "        self.b=b\n",
    "        print(\"sum =\",self.a+self.b)\n",
    "a =A()"
   ]
  },
  {
   "cell_type": "code",
   "execution_count": 50,
   "metadata": {},
   "outputs": [
    {
     "name": "stdout",
     "output_type": "stream",
     "text": [
      "this is A\n",
      "this is B\n",
      "this is C\n"
     ]
    }
   ],
   "source": [
    "class A:\n",
    "    def a(self):\n",
    "        print(\"this is A\")   \n",
    "class B(A):\n",
    "    def b(self):\n",
    "        print(\"this is B\")\n",
    "class C(B):\n",
    "    def c(self):\n",
    "        print('this is C')\n",
    "c1 = C()        \n",
    "c1.a()\n",
    "c1.b()\n",
    "c1.c()"
   ]
  },
  {
   "cell_type": "code",
   "execution_count": null,
   "metadata": {},
   "outputs": [],
   "source": []
  }
 ],
 "metadata": {
  "kernelspec": {
   "display_name": "Python 3",
   "language": "python",
   "name": "python3"
  },
  "language_info": {
   "codemirror_mode": {
    "name": "ipython",
    "version": 3
   },
   "file_extension": ".py",
   "mimetype": "text/x-python",
   "name": "python",
   "nbconvert_exporter": "python",
   "pygments_lexer": "ipython3",
   "version": "3.8.5"
  }
 },
 "nbformat": 4,
 "nbformat_minor": 4
}
