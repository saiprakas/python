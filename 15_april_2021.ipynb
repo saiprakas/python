{
 "cells": [
  {
   "cell_type": "code",
   "execution_count": null,
   "metadata": {},
   "outputs": [],
   "source": [
    "print(\"hello\")"
   ]
  },
  {
   "cell_type": "markdown",
   "metadata": {},
   "source": [
    "# PYTHON\n",
    "## PYTHON\n",
    "### python\n",
    "#### python\n",
    "##### python \n",
    "###### python"
   ]
  },
  {
   "cell_type": "markdown",
   "metadata": {},
   "source": [
    "### Markdown Format\n",
    "* **python**"
   ]
  },
  {
   "cell_type": "markdown",
   "metadata": {},
   "source": [
    "### markdown format\n",
    "* ***python***"
   ]
  },
  {
   "cell_type": "code",
   "execution_count": null,
   "metadata": {},
   "outputs": [],
   "source": [
    "a=int(input())\n",
    "b=int(input())\n",
    "c=a+b\n",
    "print(c)"
   ]
  },
  {
   "cell_type": "code",
   "execution_count": null,
   "metadata": {
    "scrolled": true
   },
   "outputs": [],
   "source": [
    "help()print()\n"
   ]
  },
  {
   "cell_type": "code",
   "execution_count": null,
   "metadata": {},
   "outputs": [],
   "source": [
    "v=input()\n",
    "print(\"welcome\"+ v)"
   ]
  },
  {
   "cell_type": "code",
   "execution_count": null,
   "metadata": {},
   "outputs": [
    {
     "name": "stdout",
     "output_type": "stream",
     "text": [
      "\n",
      "Welcome to Python 3.8's help utility!\n",
      "\n",
      "If this is your first time using Python, you should definitely check out\n",
      "the tutorial on the Internet at https://docs.python.org/3.8/tutorial/.\n",
      "\n",
      "Enter the name of any module, keyword, or topic to get help on writing\n",
      "Python programs and using Python modules.  To quit this help utility and\n",
      "return to the interpreter, just type \"quit\".\n",
      "\n",
      "To get a list of available modules, keywords, symbols, or topics, type\n",
      "\"modules\", \"keywords\", \"symbols\", or \"topics\".  Each module also comes\n",
      "with a one-line summary of what it does; to list the modules whose name\n",
      "or summary contain a given string such as \"spam\", type \"modules spam\".\n",
      "\n",
      "help> keywords\n",
      "\n",
      "Here is a list of the Python keywords.  Enter any keyword to get more help.\n",
      "\n",
      "False               class               from                or\n",
      "None                continue            global              pass\n",
      "True                def                 if                  raise\n",
      "and                 del                 import              return\n",
      "as                  elif                in                  try\n",
      "assert              else                is                  while\n",
      "async               except              lambda              with\n",
      "await               finally             nonlocal            yield\n",
      "break               for                 not                 \n",
      "\n",
      "help> modules\n",
      "\n",
      "Please wait a moment while I gather a list of all available modules...\n",
      "\n"
     ]
    },
    {
     "name": "stderr",
     "output_type": "stream",
     "text": [
      "C:\\Users\\LAB\\anaconda3\\lib\\site-packages\\IPython\\kernel\\__init__.py:12: ShimWarning: The `IPython.kernel` package has been deprecated since IPython 4.0.You should import from ipykernel or jupyter_client instead.\n",
      "  warn(\"The `IPython.kernel` package has been deprecated since IPython 4.0.\"\n",
      "C:\\Users\\LAB\\anaconda3\\lib\\pkgutil.py:92: MatplotlibDeprecationWarning: \n",
      "The matplotlib.compat module was deprecated in Matplotlib 3.3 and will be removed two minor releases later.\n",
      "  __import__(info.name)\n",
      "C:\\Users\\LAB\\anaconda3\\lib\\site-packages\\nltk\\twitter\\__init__.py:21: UserWarning: The twython library has not been installed. Some functionality from the twitter package will not be available.\n",
      "  warnings.warn(\n",
      "C:\\Users\\LAB\\anaconda3\\lib\\site-packages\\skimage\\viewer\\utils\\__init__.py:1: UserWarning: Recommended matplotlib backend is `Agg` for full skimage.viewer functionality.\n",
      "  from .core import *\n",
      "C:\\Users\\LAB\\anaconda3\\lib\\site-packages\\qtawesome\\iconic_font.py:311: UserWarning: You need to have a running QApplication to use QtAwesome!\n",
      "  warnings.warn(\"You need to have a running \"\n",
      "C:\\Users\\LAB\\anaconda3\\lib\\pkgutil.py:107: VisibleDeprecationWarning: zmq.eventloop.minitornado is deprecated in pyzmq 14.0 and will be removed.\n",
      "    Install tornado itself to use zmq with the tornado IOLoop.\n",
      "    \n",
      "  yield from walk_packages(path, info.name+'.', onerror)\n"
     ]
    },
    {
     "name": "stdout",
     "output_type": "stream",
     "text": [
      "Cython              brain_re            mailcap             sndhdr\n",
      "IPython             brain_responses     markupsafe          snowballstemmer\n",
      "OpenSSL             brain_scipy_signal  marshal             socket\n",
      "PIL                 brain_six           math                socketserver\n",
      "PyQt5               brain_ssl           matplotlib          socks\n",
      "__future__          brain_subprocess    mccabe              sockshandler\n",
      "_abc                brain_threading     menuinst            sortedcollections\n",
      "_ast                brain_typing        mimetypes           sortedcontainers\n",
      "_asyncio            brain_uuid          mistune             soupsieve\n",
      "_bisect             brotli              mkl                 sphinx\n",
      "_blake2             bs4                 mkl_fft             sphinxcontrib\n",
      "_bootlocale         builtins            mkl_random          spyder\n",
      "_bz2                bz2                 mmap                spyder_kernels\n",
      "_cffi_backend       cProfile            mmapfile            sqlalchemy\n",
      "_codecs             calendar            mmsystem            sqlite3\n",
      "_codecs_cn          certifi             mock                sre_compile\n",
      "_codecs_hk          cffi                modulefinder        sre_constants\n",
      "_codecs_iso2022     cgi                 more_itertools      sre_parse\n",
      "_codecs_jp          cgitb               mpmath              ssl\n",
      "_codecs_kr          chardet             msgpack             sspi\n",
      "_codecs_tw          chunk               msilib              sspicon\n",
      "_collections        click               msvcrt              stat\n",
      "_collections_abc    cloudpickle         multipledispatch    statistics\n",
      "_compat_pickle      clyent              multiprocessing     statsmodels\n",
      "_compression        cmath               nacl                storemagic\n",
      "_contextvars        cmd                 navigator_updater   string\n",
      "_csv                code                nbclient            stringprep\n",
      "_ctypes             codecs              nbconvert           struct\n",
      "_ctypes_test        codeop              nbformat            subprocess\n",
      "_datetime           collections         nest_asyncio        sunau\n",
      "_decimal            colorama            netbios             symbol\n",
      "_distutils_hack     colorsys            netrc               sympy\n",
      "_dummy_thread       commctrl            networkx            sympyprinting\n",
      "_elementtree        compileall          nltk                symtable\n",
      "_functools          comtypes            nntplib             sys\n",
      "_hashlib            concurrent          nose                sysconfig\n",
      "_heapq              conda               notebook            tables\n",
      "_imp                conda_build         nt                  tabnanny\n",
      "_io                 conda_env           ntpath              tarfile\n",
      "_json               conda_package_handling ntsecuritycon       tblib\n",
      "_locale             conda_verify        nturl2path          telnetlib\n",
      "_lsprof             configparser        numba               tempfile\n",
      "_lzma               contextlib          numbers             terminado\n",
      "_markupbase         contextlib2         numexpr             test\n",
      "_md5                contextvars         numpy               test_data\n",
      "_msi                copy                numpydoc            test_pycosat\n",
      "_multibytecodec     copyreg             odbc                testpath\n",
      "_multiprocessing    crypt               olefile             tests\n",
      "_nsis               cryptography        opcode              textwrap\n",
      "_opcode             csv                 openpyxl            this\n",
      "_operator           ctypes              operator            threading\n",
      "_osx_support        curl                optparse            threadpoolctl\n",
      "_overlapped         curses              os                  time\n",
      "_pickle             cwp                 packaging           timeit\n",
      "_py_abc             cycler              pandas              timer\n",
      "_pydecimal          cython              pandocfilters       tkinter\n",
      "_pyio               cythonmagic         paramiko            tlz\n",
      "_pyrsistent_version cytoolz             parser              token\n",
      "_pytest             dask                parso               tokenize\n",
      "_queue              dataclasses         partd               toml\n",
      "_random             datetime            past                toolz\n",
      "_sha1               dateutil            path                tornado\n",
      "_sha256             dbi                 pathlib             tqdm\n",
      "_sha3               dbm                 pathlib2            trace\n",
      "_sha512             dde                 pathtools           traceback\n",
      "_signal             decimal             patsy               tracemalloc\n",
      "_sitebuiltins       decorator           pdb                 traitlets\n",
      "_socket             defusedxml          pep8                tty\n",
      "_sqlite3            diff_match_patch    perfmon             turtle\n",
      "_sre                difflib             pexpect             turtledemo\n",
      "_ssl                dis                 pickle              types\n",
      "_stat               distributed         pickleshare         typing\n",
      "_statistics         distutils           pickletools         typing_extensions\n",
      "_string             doctest             pip                 ujson\n",
      "_strptime           docutils            pipes               unicodecsv\n",
      "_struct             dummy_threading     pkg_resources       unicodedata\n",
      "_symtable           easy_install        pkginfo             unittest\n",
      "_system_path        email               pkgutil             urllib\n",
      "_testbuffer         encodings           platform            urllib3\n",
      "_testcapi           ensurepip           plistlib            uu\n",
      "_testconsole        entrypoints         pluggy              uuid\n",
      "_testimportmultiple enum                ply                 venv\n",
      "_testinternalcapi   errno               poplib              warnings\n",
      "_testmultiphase     et_xmlfile          posixpath           watchdog\n",
      "_thread             fastcache           pprint              wave\n",
      "_threading_local    faulthandler        profile             wcwidth\n",
      "_tkinter            filecmp             prometheus_client   weakref\n",
      "_tracemalloc        fileinput           prompt_toolkit      webbrowser\n",
      "_warnings           filelock            pstats              webencodings\n",
      "_weakref            flake8              psutil              werkzeug\n",
      "_weakrefset         flask               pty                 wheel\n",
      "_win32sysloader     fnmatch             pvectorc            widgetsnbextension\n",
      "_winapi             formatter           py                  win2kras\n",
      "_winxptheme         fractions           py_compile          win32api\n",
      "_xxsubinterpreters  fsspec              pyclbr              win32clipboard\n",
      "_yaml               ftplib              pycodestyle         win32com\n",
      "abc                 functools           pycosat             win32con\n",
      "adodbapi            future              pycparser           win32console\n",
      "afxres              gc                  pycurl              win32cred\n",
      "aifc                genericpath         pydoc               win32crypt\n",
      "alabaster           getopt              pydoc_data          win32cryptcon\n",
      "anaconda_navigator  getpass             pydocstyle          win32ctypes\n",
      "anaconda_project    gettext             pyexpat             win32event\n",
      "antigravity         gevent              pyflakes            win32evtlog\n",
      "argh                glob                pygments            win32evtlogutil\n",
      "argon2              glob2               pylab               win32file\n",
      "argparse            greenlet            pylint              win32gui\n",
      "array               gzip                pyls                win32gui_struct\n",
      "asn1crypto          h5py                pyls_jsonrpc        win32help\n",
      "ast                 hashlib             pyodbc              win32inet\n",
      "astroid             heapdict            pyparsing           win32inetcon\n",
      "astropy             heapq               pyreadline          win32job\n",
      "async_generator     hmac                pyrsistent          win32lz\n",
      "asynchat            html                pytest              win32net\n",
      "asyncio             html5lib            pythoncom           win32netcon\n",
      "asyncore            http                pytz                win32pdh\n",
      "atexit              idlelib             pywin               win32pdhquery\n",
      "atomicwrites        idna                pywin32_bootstrap   win32pdhutil\n",
      "attr                imageio             pywin32_testutil    win32pipe\n",
      "audioop             imagesize           pywintypes          win32print\n",
      "autopep8            imaplib             pywt                win32process\n",
      "autoreload          imghdr              pyximport           win32profile\n",
      "babel               imp                 qdarkstyle          win32ras\n",
      "backcall            importlib           qtawesome           win32rcparser\n",
      "backports           importlib_metadata  qtconsole           win32security\n",
      "base64              iniconfig           qtpy                win32service\n",
      "bcrypt              inspect             queue               win32serviceutil\n",
      "bdb                 intervaltree        quopri              win32timezone\n",
      "binascii            io                  random              win32trace\n",
      "binhex              ipaddress           rasutil             win32traceutil\n",
      "binstar_client      ipykernel           re                  win32transaction\n",
      "bisect              ipykernel_launcher  readline            win32ts\n",
      "bitarray            ipython_genutils    regcheck            win32ui\n",
      "bkcharts            ipywidgets          regex               win32uiole\n",
      "bleach              isapi               regutil             win32verstamp\n",
      "bokeh               isort               reprlib             win32wnet\n",
      "boto                isympy              requests            win_inet_pton\n",
      "bottleneck          itertools           rlcompleter         win_unicode_console\n",
      "brain_argparse      itsdangerous        rmagic              wincertstore\n",
      "brain_attrs         jdcal               rope                winerror\n",
      "brain_boto3         jedi                rtree               winioctlcon\n",
      "brain_builtin_inference jinja2              ruamel_yaml         winnt\n",
      "brain_collections   joblib              run                 winperf\n",
      "brain_crypt         json                runpy               winpty\n",
      "brain_curses        json5               sched               winreg\n",
      "brain_dataclasses   jsonschema          scipy               winsound\n",
      "brain_dateutil      jupyter             scripts             winxpgui\n",
      "brain_fstrings      jupyter_client      seaborn             winxptheme\n",
      "brain_functools     jupyter_console     secrets             wrapt\n",
      "brain_gi            jupyter_core        select              wsgiref\n",
      "brain_hashlib       jupyterlab          selectors           xdrlib\n",
      "brain_http          jupyterlab_pygments send2trash          xlrd\n",
      "brain_io            jupyterlab_server   servicemanager      xlsxwriter\n",
      "brain_mechanize     keyring             setuptools          xlwings\n",
      "brain_multiprocessing keyword             shelve              xlwt\n",
      "brain_namedtuple_enum kiwisolver          shlex               xml\n",
      "brain_nose          lazy_object_proxy   shutil              xmlrpc\n",
      "brain_numpy_core_fromnumeric lib2to3             signal              xmltodict\n",
      "brain_numpy_core_function_base libarchive          simplegeneric       xxsubtype\n",
      "brain_numpy_core_multiarray libfuturize         singledispatch      yaml\n",
      "brain_numpy_core_numeric libpasteurize       singledispatch_helpers yapf\n",
      "brain_numpy_core_numerictypes lief                sip                 yapftests\n",
      "brain_numpy_core_umath linecache           sipconfig           zict\n",
      "brain_numpy_ndarray llvmlite            sipdistutils        zipapp\n",
      "brain_numpy_random_mtrand locale              site                zipfile\n",
      "brain_numpy_utils   locket              six                 zipimport\n",
      "brain_pkg_resources logging             skimage             zipp\n",
      "brain_pytest        lxml                sklearn             zlib\n",
      "brain_qt            lzma                smtpd               zmq\n",
      "brain_random        mailbox             smtplib             zope\n",
      "\n",
      "Enter any module name to get more help.  Or, type \"modules spam\" to search\n",
      "for modules whose name or summary contain the string \"spam\".\n",
      "\n"
     ]
    }
   ],
   "source": [
    "help()"
   ]
  },
  {
   "cell_type": "code",
   "execution_count": 1,
   "metadata": {},
   "outputs": [
    {
     "data": {
      "text/plain": [
       "True"
      ]
     },
     "execution_count": 1,
     "metadata": {},
     "output_type": "execute_result"
    }
   ],
   "source": [
    "import webbrowser\n",
    "webbrowser.open('http:\\\\facebook.com/')"
   ]
  },
  {
   "cell_type": "code",
   "execution_count": 2,
   "metadata": {},
   "outputs": [
    {
     "data": {
      "text/plain": [
       "'Thu Apr 15 12:25:03 2021'"
      ]
     },
     "execution_count": 2,
     "metadata": {},
     "output_type": "execute_result"
    }
   ],
   "source": [
    "import time\n",
    "time.ctime()"
   ]
  },
  {
   "cell_type": "code",
   "execution_count": null,
   "metadata": {},
   "outputs": [],
   "source": [
    "### operators in python\n",
    "* Arthimetic operators\n",
    "* assignment operators\n",
    "* comparision operators\n",
    "* membership operators\n",
    "*identity operators\n",
    "* bitwise operators"
   ]
  },
  {
   "cell_type": "code",
   "execution_count": 8,
   "metadata": {},
   "outputs": [
    {
     "name": "stdout",
     "output_type": "stream",
     "text": [
      "2\n",
      "5\n",
      "7\n",
      "-3\n",
      "10\n",
      "0.4\n",
      "32\n"
     ]
    }
   ],
   "source": [
    "a=int(input())\n",
    "b=int(input())\n",
    "add= a+b\n",
    "dif=a-b\n",
    "mul=a*b\n",
    "div=a/b\n",
    "po=a**b\n",
    "print(add)\n",
    "print(dif)\n",
    "print(mul)\n",
    "print(div)\n",
    "print(po)"
   ]
  },
  {
   "cell_type": "code",
   "execution_count": 14,
   "metadata": {},
   "outputs": [
    {
     "name": "stdout",
     "output_type": "stream",
     "text": [
      "4\n",
      "4\n",
      "a and b are equal\n"
     ]
    }
   ],
   "source": [
    "a=int(input())\n",
    "b=int(input())\n",
    "if(a>b):\n",
    "    print(\"a is greater\")\n",
    "elif(b>a):\n",
    "    print(\"b is greater\")\n",
    "elif(a==b):\n",
    "    print(\"a and b are equal\")\n",
    "else:\n",
    "    print(\"they are not equal\")"
   ]
  },
  {
   "cell_type": "code",
   "execution_count": 1,
   "metadata": {},
   "outputs": [
    {
     "name": "stdout",
     "output_type": "stream",
     "text": [
      "False\n",
      "True\n"
     ]
    }
   ],
   "source": [
    "a=True\n",
    "b=False\n",
    "print(a and b)\n",
    "print(a or b)\n",
    "\n",
    "    "
   ]
  },
  {
   "cell_type": "code",
   "execution_count": 8,
   "metadata": {},
   "outputs": [
    {
     "name": "stdout",
     "output_type": "stream",
     "text": [
      "True\n",
      "True\n"
     ]
    }
   ],
   "source": [
    "s=\"prakash\"\n",
    "print('z'not in s)\n",
    "print('s' in s)\n"
   ]
  },
  {
   "cell_type": "code",
   "execution_count": 12,
   "metadata": {},
   "outputs": [
    {
     "ename": "TypeError",
     "evalue": "unsupported operand type(s) for &: 'str' and 'str'",
     "output_type": "error",
     "traceback": [
      "\u001b[1;31m---------------------------------------------------------------------------\u001b[0m",
      "\u001b[1;31mTypeError\u001b[0m                                 Traceback (most recent call last)",
      "\u001b[1;32m<ipython-input-12-3dd87704369d>\u001b[0m in \u001b[0;36m<module>\u001b[1;34m\u001b[0m\n\u001b[0;32m      1\u001b[0m \u001b[0ma\u001b[0m\u001b[1;33m=\u001b[0m\u001b[1;34m'sai'\u001b[0m\u001b[1;33m\u001b[0m\u001b[1;33m\u001b[0m\u001b[0m\n\u001b[0;32m      2\u001b[0m \u001b[0mb\u001b[0m\u001b[1;33m=\u001b[0m\u001b[1;34m'saiprakash'\u001b[0m\u001b[1;33m\u001b[0m\u001b[1;33m\u001b[0m\u001b[0m\n\u001b[1;32m----> 3\u001b[1;33m \u001b[0mprint\u001b[0m\u001b[1;33m(\u001b[0m\u001b[0ma\u001b[0m\u001b[1;33m&\u001b[0m\u001b[0mb\u001b[0m\u001b[1;33m)\u001b[0m\u001b[1;33m\u001b[0m\u001b[1;33m\u001b[0m\u001b[0m\n\u001b[0m\u001b[0;32m      4\u001b[0m \u001b[0mprint\u001b[0m\u001b[1;33m(\u001b[0m\u001b[0ma\u001b[0m\u001b[1;33m|\u001b[0m\u001b[0mb\u001b[0m\u001b[1;33m)\u001b[0m\u001b[1;33m\u001b[0m\u001b[1;33m\u001b[0m\u001b[0m\n\u001b[0;32m      5\u001b[0m \u001b[0mprint\u001b[0m\u001b[1;33m(\u001b[0m\u001b[0ma\u001b[0m\u001b[1;33m<<\u001b[0m\u001b[1;36m2\u001b[0m\u001b[1;33m)\u001b[0m\u001b[1;33m\u001b[0m\u001b[1;33m\u001b[0m\u001b[0m\n",
      "\u001b[1;31mTypeError\u001b[0m: unsupported operand type(s) for &: 'str' and 'str'"
     ]
    }
   ],
   "source": [
    "\n",
    "b='saiprakash'\n",
    "print(a&b)\n",
    "print(a|b)\n",
    "print(a<<2)"
   ]
  },
  {
   "cell_type": "code",
   "execution_count": 16,
   "metadata": {},
   "outputs": [
    {
     "name": "stdout",
     "output_type": "stream",
     "text": [
      "10\n",
      "positive\n"
     ]
    }
   ],
   "source": [
    "n=int(input())\n",
    "if(n>0):\n",
    "        print(\"positive\")\n",
    "else:\n",
    "        print(\"negative\")"
   ]
  },
  {
   "cell_type": "code",
   "execution_count": 20,
   "metadata": {},
   "outputs": [
    {
     "name": "stdout",
     "output_type": "stream",
     "text": [
      "7\n",
      "odd\n"
     ]
    }
   ],
   "source": [
    "n=int(input())\n",
    "if(n%2==0):\n",
    "        print(\"even\")\n",
    "else:\n",
    "        print(\"odd\")"
   ]
  },
  {
   "cell_type": "code",
   "execution_count": 30,
   "metadata": {},
   "outputs": [
    {
     "name": "stdout",
     "output_type": "stream",
     "text": [
      "2020\n",
      "2020 leap year\n"
     ]
    }
   ],
   "source": [
    "n=int(input())\n",
    "if(n % 4==0 and n % 100!=0):\n",
    "    print(n,\"leap year\")\n",
    "elif(n%100==0):\n",
    "    print(n,\"not leap year\")\n",
    "elif(n%400==0):\n",
    "    print(n,\"not leap year\")\n",
    "else:\n",
    "    print(\"not leap year\")"
   ]
  },
  {
   "cell_type": "code",
   "execution_count": 31,
   "metadata": {},
   "outputs": [
    {
     "name": "stdout",
     "output_type": "stream",
     "text": [
      "2020\n",
      "not leap year\n"
     ]
    }
   ],
   "source": [
    "n=int(input())\n",
    "if(n%4==0 and n%100==0 and n%400==0):\n",
    "    print(\"leap year\")\n",
    "else:\n",
    "    print(\"not leap year\")"
   ]
  },
  {
   "cell_type": "code",
   "execution_count": 35,
   "metadata": {},
   "outputs": [
    {
     "name": "stdout",
     "output_type": "stream",
     "text": [
      "c\n",
      "c consonant\n"
     ]
    }
   ],
   "source": [
    "ch=input()\n",
    "if(ch=='a'or ch=='e'or ch=='i'or ch=='o' or ch=='u'or ch=='A'or ch=='E'or ch=='I'or ch=='O'or ch=='U'):\n",
    "    print(ch,\"the letter is vowel\")\n",
    "else:\n",
    "    print(ch,\"consonant\")"
   ]
  },
  {
   "cell_type": "code",
   "execution_count": 45,
   "metadata": {},
   "outputs": [
    {
     "name": "stdout",
     "output_type": "stream",
     "text": [
      "3 a is greater\n"
     ]
    }
   ],
   "source": [
    "a=3\n",
    "b=2\n",
    "c=1\n",
    "if(a>b):\n",
    "    if(a>c):\n",
    "        print(a,\"a is greater\")\n",
    "elif(b>c):\n",
    "    if(b>a):\n",
    "        print(b,\" b is greater\")\n",
    "elif(c>a):\n",
    "    if(c>b):\n",
    "        print(c,\"c is greater\")\n",
    "else:\n",
    "    print(\"all are equal\")"
   ]
  },
  {
   "cell_type": "code",
   "execution_count": 51,
   "metadata": {},
   "outputs": [
    {
     "name": "stdout",
     "output_type": "stream",
     "text": [
      "sai\n",
      "sai\n",
      "wellcome sai\n",
      "wellcome sai\n",
      "wellcome sai\n"
     ]
    }
   ],
   "source": [
    "username=input(\"\")\n",
    "password=input(\"\")\n",
    "if(len(username)==len(password)):\n",
    "    for i in username:\n",
    "        for j in password:\n",
    "            if(i==j):\n",
    "                print(\"wellcome\",username)\n",
    "else:\n",
    "    print(\"wrong match\")"
   ]
  },
  {
   "cell_type": "code",
   "execution_count": 52,
   "metadata": {},
   "outputs": [
    {
     "name": "stdout",
     "output_type": "stream",
     "text": [
      "sai\n",
      "1974\n",
      "logged in\n"
     ]
    }
   ],
   "source": [
    "username=input()\n",
    "password=input()\n",
    "if(username==\"sai\" and password==\"1974\"):\n",
    "    print(\"logged in\")\n",
    "elif(username==\"aadhil\"and password==\"2001\"):\n",
    "    print(\"logged in\")\n",
    "else:\n",
    "    print(\"wrong match\")"
   ]
  },
  {
   "cell_type": "code",
   "execution_count": 54,
   "metadata": {},
   "outputs": [
    {
     "name": "stdout",
     "output_type": "stream",
     "text": [
      "6\n",
      "100000000000000000000\n"
     ]
    }
   ],
   "source": [
    "a=10\n",
    "b=20\n",
    "c=int(input())\n",
    "if(c==1):\n",
    "    print(a+b)\n",
    "elif(c==2):\n",
    "    print(a-b)\n",
    "elif(c==3):\n",
    "    print(a*b)\n",
    "elif(c==4):\n",
    "    print(a/b)\n",
    "elif(c==5):\n",
    "    print(a%b)\n",
    "elif(c==6):\n",
    "    print(a**b)"
   ]
  },
  {
   "cell_type": "code",
   "execution_count": null,
   "metadata": {},
   "outputs": [],
   "source": []
  },
  {
   "cell_type": "code",
   "execution_count": null,
   "metadata": {},
   "outputs": [],
   "source": [
    "3"
   ]
  }
 ],
 "metadata": {
  "kernelspec": {
   "display_name": "Python 3",
   "language": "python",
   "name": "python3"
  },
  "language_info": {
   "codemirror_mode": {
    "name": "ipython",
    "version": 3
   },
   "file_extension": ".py",
   "mimetype": "text/x-python",
   "name": "python",
   "nbconvert_exporter": "python",
   "pygments_lexer": "ipython3",
   "version": "3.8.5"
  }
 },
 "nbformat": 4,
 "nbformat_minor": 4
}
