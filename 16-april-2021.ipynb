{
 "cells": [
  {
   "cell_type": "code",
   "execution_count": null,
   "metadata": {},
   "outputs": [],
   "source": [
    "print(\"hello\")"
   ]
  },
  {
   "cell_type": "markdown",
   "metadata": {},
   "source": [
    "# PYTHON\n",
    "## PYTHON\n",
    "### python\n",
    "#### python\n",
    "##### python \n",
    "###### python"
   ]
  },
  {
   "cell_type": "markdown",
   "metadata": {},
   "source": [
    "### Markdown Format\n",
    "* **python**"
   ]
  },
  {
   "cell_type": "markdown",
   "metadata": {},
   "source": [
    "### markdown format\n",
    "* ***python***"
   ]
  },
  {
   "cell_type": "code",
   "execution_count": null,
   "metadata": {},
   "outputs": [],
   "source": [
    "a=int(input())\n",
    "b=int(input())\n",
    "c=a+b\n",
    "print(c)"
   ]
  },
  {
   "cell_type": "code",
   "execution_count": null,
   "metadata": {
    "scrolled": true
   },
   "outputs": [],
   "source": [
    "help()print()\n"
   ]
  },
  {
   "cell_type": "code",
   "execution_count": null,
   "metadata": {},
   "outputs": [],
   "source": [
    "v=input()\n",
    "print(\"welcome\"+ v)"
   ]
  },
  {
   "cell_type": "code",
   "execution_count": null,
   "metadata": {},
   "outputs": [],
   "source": [
    "help()"
   ]
  },
  {
   "cell_type": "code",
   "execution_count": null,
   "metadata": {},
   "outputs": [],
   "source": [
    "import webbrowser\n",
    "webbrowser.open('http:\\\\facebook.com/')"
   ]
  },
  {
   "cell_type": "code",
   "execution_count": null,
   "metadata": {},
   "outputs": [],
   "source": [
    "import time\n",
    "time.ctime()"
   ]
  },
  {
   "cell_type": "code",
   "execution_count": null,
   "metadata": {},
   "outputs": [],
   "source": [
    "### operators in python\n",
    "* Arthimetic operators\n",
    "* assignment operators\n",
    "* comparision operators\n",
    "* membership operators\n",
    "*identity operators\n",
    "* bitwise operators"
   ]
  },
  {
   "cell_type": "code",
   "execution_count": null,
   "metadata": {},
   "outputs": [],
   "source": [
    "a=int(input())\n",
    "b=int(input())\n",
    "add= a+b\n",
    "dif=a-b\n",
    "mul=a*b\n",
    "div=a/b\n",
    "po=a**b\n",
    "print(add)\n",
    "print(dif)\n",
    "print(mul)\n",
    "print(div)\n",
    "print(po)"
   ]
  },
  {
   "cell_type": "code",
   "execution_count": null,
   "metadata": {},
   "outputs": [],
   "source": [
    "a=int(input())\n",
    "b=int(input())\n",
    "if(a>b):\n",
    "    print(\"a is greater\")\n",
    "elif(b>a):\n",
    "    print(\"b is greater\")\n",
    "elif(a==b):\n",
    "    print(\"a and b are equal\")\n",
    "else:\n",
    "    print(\"they are not equal\")"
   ]
  },
  {
   "cell_type": "code",
   "execution_count": null,
   "metadata": {},
   "outputs": [],
   "source": [
    "a=True\n",
    "b=False\n",
    "print(a and b)\n",
    "print(a or b)\n",
    "\n",
    "    "
   ]
  },
  {
   "cell_type": "code",
   "execution_count": null,
   "metadata": {},
   "outputs": [],
   "source": [
    "s=\"prakash\"\n",
    "print('z'not in s)\n",
    "print('s' in s)\n"
   ]
  },
  {
   "cell_type": "code",
   "execution_count": null,
   "metadata": {},
   "outputs": [],
   "source": [
    "\n",
    "b='saiprakash'\n",
    "print(a&b)\n",
    "print(a|b)\n",
    "print(a<<2)"
   ]
  },
  {
   "cell_type": "code",
   "execution_count": null,
   "metadata": {},
   "outputs": [],
   "source": [
    "n=int(input())\n",
    "if(n>0):\n",
    "        print(\"positive\")\n",
    "else:\n",
    "        print(\"negative\")"
   ]
  },
  {
   "cell_type": "code",
   "execution_count": null,
   "metadata": {},
   "outputs": [],
   "source": [
    "n=int(input())\n",
    "if(n%2==0):\n",
    "        print(\"even\")\n",
    "else:\n",
    "        print(\"odd\")"
   ]
  },
  {
   "cell_type": "code",
   "execution_count": null,
   "metadata": {},
   "outputs": [],
   "source": [
    "n=int(input())\n",
    "if(n % 4==0 and n % 100!=0):\n",
    "    print(n,\"leap year\")\n",
    "elif(n%100==0):\n",
    "    print(n,\"not leap year\")\n",
    "elif(n%400==0):\n",
    "    print(n,\"not leap year\")\n",
    "else:\n",
    "    print(\"not leap year\")"
   ]
  },
  {
   "cell_type": "code",
   "execution_count": null,
   "metadata": {},
   "outputs": [],
   "source": [
    "n=int(input())\n",
    "if(n%4==0 and n%100==0 and n%400==0):\n",
    "    print(\"leap year\")\n",
    "else:\n",
    "    print(\"not leap year\")"
   ]
  },
  {
   "cell_type": "code",
   "execution_count": null,
   "metadata": {},
   "outputs": [],
   "source": [
    "ch=input()\n",
    "if(ch=='a'or ch=='e'or ch=='i'or ch=='o' or ch=='u'or ch=='A'or ch=='E'or ch=='I'or ch=='O'or ch=='U'):\n",
    "    print(ch,\"the letter is vowel\")\n",
    "else:\n",
    "    print(ch,\"consonant\")"
   ]
  },
  {
   "cell_type": "code",
   "execution_count": null,
   "metadata": {},
   "outputs": [],
   "source": [
    "a=3\n",
    "b=2\n",
    "c=1\n",
    "if(a>b):\n",
    "    if(a>c):\n",
    "        print(a,\"a is greater\")\n",
    "elif(b>c):\n",
    "    if(b>a):\n",
    "        print(b,\" b is greater\")\n",
    "elif(c>a):\n",
    "    if(c>b):\n",
    "        print(c,\"c is greater\")\n",
    "else:\n",
    "    print(\"all are equal\")"
   ]
  },
  {
   "cell_type": "code",
   "execution_count": null,
   "metadata": {},
   "outputs": [],
   "source": [
    "username=input(\"\")\n",
    "password=input(\"\")\n",
    "if(len(username)==len(password)):\n",
    "    for i in username:\n",
    "        for j in password:\n",
    "            if(i==j):\n",
    "                print(\"wellcome\",username)\n",
    "else:\n",
    "    print(\"wrong match\")"
   ]
  },
  {
   "cell_type": "code",
   "execution_count": null,
   "metadata": {},
   "outputs": [],
   "source": [
    "username=input()\n",
    "password=input()\n",
    "if(username==\"sai\" and password==\"1974\"):\n",
    "    print(\"logged in\")\n",
    "elif(username==\"aadhil\"and password==\"2001\"):\n",
    "    print(\"logged in\")\n",
    "else:\n",
    "    print(\"wrong match\")"
   ]
  },
  {
   "cell_type": "code",
   "execution_count": null,
   "metadata": {},
   "outputs": [],
   "source": [
    "a=10\n",
    "b=20\n",
    "c=int(input())\n",
    "if(c==1):\n",
    "    print(a+b)\n",
    "elif(c==2):\n",
    "    print(a-b)\n",
    "elif(c==3):\n",
    "    print(a*b)\n",
    "elif(c==4):\n",
    "    print(a/b)\n",
    "elif(c==5):\n",
    "    print(a%b)\n",
    "elif(c==6):\n",
    "    print(a**b)"
   ]
  },
  {
   "cell_type": "code",
   "execution_count": null,
   "metadata": {},
   "outputs": [],
   "source": [
    "\n",
    "    "
   ]
  },
  {
   "cell_type": "markdown",
   "metadata": {},
   "source": []
  },
  {
   "cell_type": "code",
   "execution_count": null,
   "metadata": {},
   "outputs": [],
   "source": [
    "def pypart(n):\n",
    "     \n",
    "    \n",
    "    for i in range(0, n):\n",
    "     \n",
    "        \n",
    "        for j in range(0, i+1):\n",
    "         \n",
    "            \n",
    "            print(\"* \",end=\"\")\n",
    "      \n",
    "        \n",
    "        print(\"\\r\")\n",
    " \n",
    "# Driver Code\n",
    "n = 5\n",
    "pypart(n)"
   ]
  },
  {
   "cell_type": "code",
   "execution_count": null,
   "metadata": {},
   "outputs": [],
   "source": [
    "n=int(input())\n",
    "b=int(input())\n",
    "sum1=0\n",
    "count=0\n",
    "for i in range (n,b+1):\n",
    "    sum1=sum1+i\n",
    "    count=count+1\n",
    "    print(sum1)\n",
    "    print(sum1/count)"
   ]
  },
  {
   "cell_type": "code",
   "execution_count": null,
   "metadata": {},
   "outputs": [],
   "source": [
    "n=int(input())\n",
    "n1=int(input())\n",
    "sum1=0\n",
    "count=0\n",
    "for i in range (n,n1+1):\n",
    "    if(i%2==0):\n",
    "        count=count+1\n",
    "        sum1=sum1+i\n",
    "print(sum1)\n",
    "print(sum1/count)"
   ]
  },
  {
   "cell_type": "code",
   "execution_count": null,
   "metadata": {},
   "outputs": [],
   "source": [
    "n=input()\n",
    "n1=input()\n",
    "a=int(n)\n",
    "b=int(n1)\n",
    "sum1=0\n",
    "count=0\n",
    "for i in range (1,b+1):\n",
    "    if(i%2==0):\n",
    "        count=count+1\n",
    "        sum1=sum1+i\n",
    "print(sum1)\n",
    "print(sum1/count)"
   ]
  },
  {
   "cell_type": "code",
   "execution_count": null,
   "metadata": {},
   "outputs": [],
   "source": [
    "n=int(input())\n",
    "fact=1\n",
    "for i in range(1,n+1):\n",
    "    fact= fact*i\n",
    "print(fact)"
   ]
  },
  {
   "cell_type": "code",
   "execution_count": null,
   "metadata": {},
   "outputs": [],
   "source": [
    "n=int(input())\n",
    "if(n%1==0 and n%n==0):\n",
    "    print(\"prime number\")"
   ]
  },
  {
   "cell_type": "code",
   "execution_count": null,
   "metadata": {},
   "outputs": [],
   "source": [
    "n=int(input())\n",
    "if(n==2 or n==3 or n==5 or n==7):\n",
    "    print(\"prime numebr\")\n",
    "if(n%1==0 and n%n==0):\n",
    "    if(n%2!=0 and n%3!=0 and n%5!=0 and n%7!=0):\n",
    "        print(\"prime number\")\n",
    "    else:\n",
    "        print(\"not prime\")"
   ]
  },
  {
   "cell_type": "code",
   "execution_count": null,
   "metadata": {},
   "outputs": [],
   "source": [
    "n=int(input())#4\n",
    "factor_count=0\n",
    "for i in range (1,n+1):\n",
    "    if n%i==0:\n",
    "        factor_count += 1\n",
    "if factor_count==2:\n",
    "    print(n,\"is prime\")\n",
    "else:\n",
    "    print(n,\"not prime\")"
   ]
  },
  {
   "cell_type": "code",
   "execution_count": null,
   "metadata": {},
   "outputs": [],
   "source": [
    "n=int(input())\n",
    "sum=0\n",
    "for i in range(1,n):\n",
    "    if(n%i==0):\n",
    "        sum=sum+i\n",
    "if(sum==n):\n",
    "    if(n%2==0):\n",
    "        print(\"perfect\")\n",
    "else:\n",
    "    print(\"not perfect\")"
   ]
  },
  {
   "cell_type": "code",
   "execution_count": 3,
   "metadata": {},
   "outputs": [
    {
     "name": "stdout",
     "output_type": "stream",
     "text": [
      "enter the number5\n",
      "120\n"
     ]
    }
   ],
   "source": [
    "def perfect(n):\n",
    "    \n",
    "    sum=0\n",
    "    for i in range(1,n):\n",
    "        if(n%i==0):\n",
    "            sum=sum+i\n",
    "    if(sum==n):\n",
    "        if(n%2==0):\n",
    "            print(\"perfect\")\n",
    "    else:\n",
    "        print(\"not perfect\")\n",
    "def factorial(n):\n",
    "    fact=1\n",
    "    for i in range(1,n+1):\n",
    "        fact= fact*i\n",
    "    print(fact)\n",
    "n=int(input(\"enter the number\"))\n",
    "if(n%2==0):\n",
    "    perfect(n)\n",
    "else:\n",
    "    factorial(n)"
   ]
  },
  {
   "cell_type": "code",
   "execution_count": null,
   "metadata": {},
   "outputs": [],
   "source": [
    "a=int(input(\"enter the number\"))    \n",
    "for i in range (1,11):\n",
    "            print(a,\"x\",i,\"=\",a*i)"
   ]
  },
  {
   "cell_type": "code",
   "execution_count": null,
   "metadata": {},
   "outputs": [],
   "source": [
    "n=int(input())\n",
    "for i in range (1,n+1):\n",
    "    if i==5:\n",
    "        continue\n",
    "    print(i,end=\"\")"
   ]
  },
  {
   "cell_type": "code",
   "execution_count": null,
   "metadata": {},
   "outputs": [],
   "source": [
    "a=input(\"\")\n",
    "for i in (a):\n",
    "    print(i)"
   ]
  },
  {
   "cell_type": "code",
   "execution_count": 1,
   "metadata": {},
   "outputs": [
    {
     "name": "stdout",
     "output_type": "stream",
     "text": [
      "sai\n",
      " h z "
     ]
    }
   ],
   "source": [
    "str1 =input()\n",
    "for i in str1:\n",
    "    if(ord(i)%2==0):\n",
    "        print(i)\n",
    "    else:\n",
    "        b=(ord(i)*ord(i))/90\n",
    "        b=int(b)\n",
    "        print(chr(b),end=\" \")\n",
    "        "
   ]
  },
  {
   "cell_type": "markdown",
   "metadata": {},
   "source": [
    "****local variable****"
   ]
  },
  {
   "cell_type": "code",
   "execution_count": 1,
   "metadata": {},
   "outputs": [
    {
     "name": "stdout",
     "output_type": "stream",
     "text": [
      "from second\n"
     ]
    }
   ],
   "source": [
    "class Multi():\n",
    "    def __init__(self):\n",
    "        print(\"from first\")\n",
    "    def __init__(self):\n",
    "        print(\"from second\")\n",
    "m=Multi()\n",
    "\n",
    "    "
   ]
  },
  {
   "cell_type": "code",
   "execution_count": null,
   "metadata": {},
   "outputs": [],
   "source": []
  }
 ],
 "metadata": {
  "kernelspec": {
   "display_name": "Python 3",
   "language": "python",
   "name": "python3"
  },
  "language_info": {
   "codemirror_mode": {
    "name": "ipython",
    "version": 3
   },
   "file_extension": ".py",
   "mimetype": "text/x-python",
   "name": "python",
   "nbconvert_exporter": "python",
   "pygments_lexer": "ipython3",
   "version": "3.8.5"
  }
 },
 "nbformat": 4,
 "nbformat_minor": 4
}
